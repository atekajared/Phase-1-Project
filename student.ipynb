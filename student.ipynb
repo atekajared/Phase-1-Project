{
 "cells": [
  {
   "cell_type": "markdown",
   "id": "d51d0f54",
   "metadata": {},
   "source": [
    "## Final Project Submission\n",
    "\n",
    "Please fill out:\n",
    "* Student name:     Jared Ateka\n",
    "* Student pace:     Remote\n",
    "* Scheduled project review date/time:   31/11/2025\n",
    "* Instructor name:  Brian Chacha\n",
    "* Blog post URL:\n"
   ]
  },
  {
   "cell_type": "markdown",
   "id": "324a2675",
   "metadata": {},
   "source": [
    "## 1. Project Overview"
   ]
  },
  {
   "cell_type": "markdown",
   "id": "1a6ebdec",
   "metadata": {},
   "source": [
    "### Problem Statement\n",
    "Ateqa Holidings Limited is expanding into aviation by purchasing and operating aircraft for commercial and private enterprises. We need to identify the lowest-risk aircraft types to minimize operational risks in this new business venture.\n",
    "The goal is to minimize operational risks while establishing a safety-first reputation in this new industry."
   ]
  },
  {
   "cell_type": "markdown",
   "id": "a7f810a6",
   "metadata": {},
   "source": [
    "## Objectives\n",
    "1. Analyze historical aviation accident data to identify safety patterns.\n",
    "2. Determine which aircraft characteristics correlate with lower accident rates.\n",
    "3. Provide data-driven recommendations for aircraft acquisition.\n",
    "\n"
   ]
  },
  {
   "cell_type": "markdown",
   "id": "284bdbb3",
   "metadata": {},
   "source": [
    "## 2. Data Loading and Undestanding"
   ]
  },
  {
   "cell_type": "code",
   "execution_count": 2,
   "id": "a6e70429",
   "metadata": {},
   "outputs": [],
   "source": [
    "import pandas as pd\n",
    "import csv\n",
    "import numpy as np\n",
    "import seaborn as sns\n",
    "import matplotlib.pyplot as plt\n",
    "import warnings\n",
    "warnings.filterwarnings('ignore')"
   ]
  },
  {
   "cell_type": "code",
   "execution_count": 3,
   "id": "a81ede45",
   "metadata": {},
   "outputs": [
    {
     "data": {
      "application/vnd.microsoft.datawrangler.viewer.v0+json": {
       "columns": [
        {
         "name": "index",
         "rawType": "int64",
         "type": "integer"
        },
        {
         "name": "Event.Id",
         "rawType": "object",
         "type": "string"
        },
        {
         "name": "Investigation.Type",
         "rawType": "object",
         "type": "string"
        },
        {
         "name": "Accident.Number",
         "rawType": "object",
         "type": "string"
        },
        {
         "name": "Event.Date",
         "rawType": "object",
         "type": "string"
        },
        {
         "name": "Location",
         "rawType": "object",
         "type": "string"
        },
        {
         "name": "Country",
         "rawType": "object",
         "type": "string"
        },
        {
         "name": "Latitude",
         "rawType": "object",
         "type": "string"
        },
        {
         "name": "Longitude",
         "rawType": "object",
         "type": "string"
        },
        {
         "name": "Airport.Code",
         "rawType": "object",
         "type": "string"
        },
        {
         "name": "Airport.Name",
         "rawType": "object",
         "type": "string"
        },
        {
         "name": "Injury.Severity",
         "rawType": "object",
         "type": "string"
        },
        {
         "name": "Aircraft.damage",
         "rawType": "object",
         "type": "string"
        },
        {
         "name": "Aircraft.Category",
         "rawType": "object",
         "type": "string"
        },
        {
         "name": "Registration.Number",
         "rawType": "object",
         "type": "string"
        },
        {
         "name": "Make",
         "rawType": "object",
         "type": "string"
        },
        {
         "name": "Model",
         "rawType": "object",
         "type": "string"
        },
        {
         "name": "Amateur.Built",
         "rawType": "object",
         "type": "string"
        },
        {
         "name": "Number.of.Engines",
         "rawType": "float64",
         "type": "float"
        },
        {
         "name": "Engine.Type",
         "rawType": "object",
         "type": "string"
        },
        {
         "name": "FAR.Description",
         "rawType": "object",
         "type": "string"
        },
        {
         "name": "Schedule",
         "rawType": "object",
         "type": "string"
        },
        {
         "name": "Purpose.of.flight",
         "rawType": "object",
         "type": "string"
        },
        {
         "name": "Air.carrier",
         "rawType": "object",
         "type": "string"
        },
        {
         "name": "Total.Fatal.Injuries",
         "rawType": "float64",
         "type": "float"
        },
        {
         "name": "Total.Serious.Injuries",
         "rawType": "float64",
         "type": "float"
        },
        {
         "name": "Total.Minor.Injuries",
         "rawType": "float64",
         "type": "float"
        },
        {
         "name": "Total.Uninjured",
         "rawType": "float64",
         "type": "float"
        },
        {
         "name": "Weather.Condition",
         "rawType": "object",
         "type": "string"
        },
        {
         "name": "Broad.phase.of.flight",
         "rawType": "object",
         "type": "string"
        },
        {
         "name": "Report.Status",
         "rawType": "object",
         "type": "string"
        },
        {
         "name": "Publication.Date",
         "rawType": "object",
         "type": "string"
        }
       ],
       "ref": "b961dadd-b687-4ff9-8602-c1bcde6c194b",
       "rows": [
        [
         "0",
         "20001218X45444",
         "Accident",
         "SEA87LA080",
         "1948-10-24",
         "MOOSE CREEK, ID",
         "United States",
         null,
         null,
         null,
         null,
         "Fatal(2)",
         "Destroyed",
         null,
         "NC6404",
         "Stinson",
         "108-3",
         "No",
         "1.0",
         "Reciprocating",
         null,
         null,
         "Personal",
         null,
         "2.0",
         "0.0",
         "0.0",
         "0.0",
         "UNK",
         "Cruise",
         "Probable Cause",
         null
        ],
        [
         "1",
         "20001218X45447",
         "Accident",
         "LAX94LA336",
         "1962-07-19",
         "BRIDGEPORT, CA",
         "United States",
         null,
         null,
         null,
         null,
         "Fatal(4)",
         "Destroyed",
         null,
         "N5069P",
         "Piper",
         "PA24-180",
         "No",
         "1.0",
         "Reciprocating",
         null,
         null,
         "Personal",
         null,
         "4.0",
         "0.0",
         "0.0",
         "0.0",
         "UNK",
         "Unknown",
         "Probable Cause",
         "19-09-1996"
        ],
        [
         "2",
         "20061025X01555",
         "Accident",
         "NYC07LA005",
         "1974-08-30",
         "Saltville, VA",
         "United States",
         "36.922222999999995",
         "-81.878056",
         null,
         null,
         "Fatal(3)",
         "Destroyed",
         null,
         "N5142R",
         "Cessna",
         "172M",
         "No",
         "1.0",
         "Reciprocating",
         null,
         null,
         "Personal",
         null,
         "3.0",
         null,
         null,
         null,
         "IMC",
         "Cruise",
         "Probable Cause",
         "26-02-2007"
        ],
        [
         "3",
         "20001218X45448",
         "Accident",
         "LAX96LA321",
         "1977-06-19",
         "EUREKA, CA",
         "United States",
         null,
         null,
         null,
         null,
         "Fatal(2)",
         "Destroyed",
         null,
         "N1168J",
         "Rockwell",
         "112",
         "No",
         "1.0",
         "Reciprocating",
         null,
         null,
         "Personal",
         null,
         "2.0",
         "0.0",
         "0.0",
         "0.0",
         "IMC",
         "Cruise",
         "Probable Cause",
         "12-09-2000"
        ],
        [
         "4",
         "20041105X01764",
         "Accident",
         "CHI79FA064",
         "1979-08-02",
         "Canton, OH",
         "United States",
         null,
         null,
         null,
         null,
         "Fatal(1)",
         "Destroyed",
         null,
         "N15NY",
         "Cessna",
         "501",
         "No",
         null,
         null,
         null,
         null,
         "Personal",
         null,
         "1.0",
         "2.0",
         null,
         "0.0",
         "VMC",
         "Approach",
         "Probable Cause",
         "16-04-1980"
        ]
       ],
       "shape": {
        "columns": 31,
        "rows": 5
       }
      },
      "text/html": [
       "<div>\n",
       "<style scoped>\n",
       "    .dataframe tbody tr th:only-of-type {\n",
       "        vertical-align: middle;\n",
       "    }\n",
       "\n",
       "    .dataframe tbody tr th {\n",
       "        vertical-align: top;\n",
       "    }\n",
       "\n",
       "    .dataframe thead th {\n",
       "        text-align: right;\n",
       "    }\n",
       "</style>\n",
       "<table border=\"1\" class=\"dataframe\">\n",
       "  <thead>\n",
       "    <tr style=\"text-align: right;\">\n",
       "      <th></th>\n",
       "      <th>Event.Id</th>\n",
       "      <th>Investigation.Type</th>\n",
       "      <th>Accident.Number</th>\n",
       "      <th>Event.Date</th>\n",
       "      <th>Location</th>\n",
       "      <th>Country</th>\n",
       "      <th>Latitude</th>\n",
       "      <th>Longitude</th>\n",
       "      <th>Airport.Code</th>\n",
       "      <th>Airport.Name</th>\n",
       "      <th>...</th>\n",
       "      <th>Purpose.of.flight</th>\n",
       "      <th>Air.carrier</th>\n",
       "      <th>Total.Fatal.Injuries</th>\n",
       "      <th>Total.Serious.Injuries</th>\n",
       "      <th>Total.Minor.Injuries</th>\n",
       "      <th>Total.Uninjured</th>\n",
       "      <th>Weather.Condition</th>\n",
       "      <th>Broad.phase.of.flight</th>\n",
       "      <th>Report.Status</th>\n",
       "      <th>Publication.Date</th>\n",
       "    </tr>\n",
       "  </thead>\n",
       "  <tbody>\n",
       "    <tr>\n",
       "      <th>0</th>\n",
       "      <td>20001218X45444</td>\n",
       "      <td>Accident</td>\n",
       "      <td>SEA87LA080</td>\n",
       "      <td>1948-10-24</td>\n",
       "      <td>MOOSE CREEK, ID</td>\n",
       "      <td>United States</td>\n",
       "      <td>NaN</td>\n",
       "      <td>NaN</td>\n",
       "      <td>NaN</td>\n",
       "      <td>NaN</td>\n",
       "      <td>...</td>\n",
       "      <td>Personal</td>\n",
       "      <td>NaN</td>\n",
       "      <td>2.0</td>\n",
       "      <td>0.0</td>\n",
       "      <td>0.0</td>\n",
       "      <td>0.0</td>\n",
       "      <td>UNK</td>\n",
       "      <td>Cruise</td>\n",
       "      <td>Probable Cause</td>\n",
       "      <td>NaN</td>\n",
       "    </tr>\n",
       "    <tr>\n",
       "      <th>1</th>\n",
       "      <td>20001218X45447</td>\n",
       "      <td>Accident</td>\n",
       "      <td>LAX94LA336</td>\n",
       "      <td>1962-07-19</td>\n",
       "      <td>BRIDGEPORT, CA</td>\n",
       "      <td>United States</td>\n",
       "      <td>NaN</td>\n",
       "      <td>NaN</td>\n",
       "      <td>NaN</td>\n",
       "      <td>NaN</td>\n",
       "      <td>...</td>\n",
       "      <td>Personal</td>\n",
       "      <td>NaN</td>\n",
       "      <td>4.0</td>\n",
       "      <td>0.0</td>\n",
       "      <td>0.0</td>\n",
       "      <td>0.0</td>\n",
       "      <td>UNK</td>\n",
       "      <td>Unknown</td>\n",
       "      <td>Probable Cause</td>\n",
       "      <td>19-09-1996</td>\n",
       "    </tr>\n",
       "    <tr>\n",
       "      <th>2</th>\n",
       "      <td>20061025X01555</td>\n",
       "      <td>Accident</td>\n",
       "      <td>NYC07LA005</td>\n",
       "      <td>1974-08-30</td>\n",
       "      <td>Saltville, VA</td>\n",
       "      <td>United States</td>\n",
       "      <td>36.9222</td>\n",
       "      <td>-81.8781</td>\n",
       "      <td>NaN</td>\n",
       "      <td>NaN</td>\n",
       "      <td>...</td>\n",
       "      <td>Personal</td>\n",
       "      <td>NaN</td>\n",
       "      <td>3.0</td>\n",
       "      <td>NaN</td>\n",
       "      <td>NaN</td>\n",
       "      <td>NaN</td>\n",
       "      <td>IMC</td>\n",
       "      <td>Cruise</td>\n",
       "      <td>Probable Cause</td>\n",
       "      <td>26-02-2007</td>\n",
       "    </tr>\n",
       "    <tr>\n",
       "      <th>3</th>\n",
       "      <td>20001218X45448</td>\n",
       "      <td>Accident</td>\n",
       "      <td>LAX96LA321</td>\n",
       "      <td>1977-06-19</td>\n",
       "      <td>EUREKA, CA</td>\n",
       "      <td>United States</td>\n",
       "      <td>NaN</td>\n",
       "      <td>NaN</td>\n",
       "      <td>NaN</td>\n",
       "      <td>NaN</td>\n",
       "      <td>...</td>\n",
       "      <td>Personal</td>\n",
       "      <td>NaN</td>\n",
       "      <td>2.0</td>\n",
       "      <td>0.0</td>\n",
       "      <td>0.0</td>\n",
       "      <td>0.0</td>\n",
       "      <td>IMC</td>\n",
       "      <td>Cruise</td>\n",
       "      <td>Probable Cause</td>\n",
       "      <td>12-09-2000</td>\n",
       "    </tr>\n",
       "    <tr>\n",
       "      <th>4</th>\n",
       "      <td>20041105X01764</td>\n",
       "      <td>Accident</td>\n",
       "      <td>CHI79FA064</td>\n",
       "      <td>1979-08-02</td>\n",
       "      <td>Canton, OH</td>\n",
       "      <td>United States</td>\n",
       "      <td>NaN</td>\n",
       "      <td>NaN</td>\n",
       "      <td>NaN</td>\n",
       "      <td>NaN</td>\n",
       "      <td>...</td>\n",
       "      <td>Personal</td>\n",
       "      <td>NaN</td>\n",
       "      <td>1.0</td>\n",
       "      <td>2.0</td>\n",
       "      <td>NaN</td>\n",
       "      <td>0.0</td>\n",
       "      <td>VMC</td>\n",
       "      <td>Approach</td>\n",
       "      <td>Probable Cause</td>\n",
       "      <td>16-04-1980</td>\n",
       "    </tr>\n",
       "  </tbody>\n",
       "</table>\n",
       "<p>5 rows × 31 columns</p>\n",
       "</div>"
      ],
      "text/plain": [
       "         Event.Id Investigation.Type Accident.Number  Event.Date  \\\n",
       "0  20001218X45444           Accident      SEA87LA080  1948-10-24   \n",
       "1  20001218X45447           Accident      LAX94LA336  1962-07-19   \n",
       "2  20061025X01555           Accident      NYC07LA005  1974-08-30   \n",
       "3  20001218X45448           Accident      LAX96LA321  1977-06-19   \n",
       "4  20041105X01764           Accident      CHI79FA064  1979-08-02   \n",
       "\n",
       "          Location        Country Latitude Longitude Airport.Code  \\\n",
       "0  MOOSE CREEK, ID  United States      NaN       NaN          NaN   \n",
       "1   BRIDGEPORT, CA  United States      NaN       NaN          NaN   \n",
       "2    Saltville, VA  United States  36.9222  -81.8781          NaN   \n",
       "3       EUREKA, CA  United States      NaN       NaN          NaN   \n",
       "4       Canton, OH  United States      NaN       NaN          NaN   \n",
       "\n",
       "  Airport.Name  ... Purpose.of.flight Air.carrier Total.Fatal.Injuries  \\\n",
       "0          NaN  ...          Personal         NaN                  2.0   \n",
       "1          NaN  ...          Personal         NaN                  4.0   \n",
       "2          NaN  ...          Personal         NaN                  3.0   \n",
       "3          NaN  ...          Personal         NaN                  2.0   \n",
       "4          NaN  ...          Personal         NaN                  1.0   \n",
       "\n",
       "  Total.Serious.Injuries Total.Minor.Injuries Total.Uninjured  \\\n",
       "0                    0.0                  0.0             0.0   \n",
       "1                    0.0                  0.0             0.0   \n",
       "2                    NaN                  NaN             NaN   \n",
       "3                    0.0                  0.0             0.0   \n",
       "4                    2.0                  NaN             0.0   \n",
       "\n",
       "  Weather.Condition  Broad.phase.of.flight   Report.Status Publication.Date  \n",
       "0               UNK                 Cruise  Probable Cause              NaN  \n",
       "1               UNK                Unknown  Probable Cause       19-09-1996  \n",
       "2               IMC                 Cruise  Probable Cause       26-02-2007  \n",
       "3               IMC                 Cruise  Probable Cause       12-09-2000  \n",
       "4               VMC               Approach  Probable Cause       16-04-1980  \n",
       "\n",
       "[5 rows x 31 columns]"
      ]
     },
     "execution_count": 3,
     "metadata": {},
     "output_type": "execute_result"
    }
   ],
   "source": [
    "df = pd.read_csv(\"Aviation_Data.csv\")\n",
    "df.head()"
   ]
  },
  {
   "cell_type": "code",
   "execution_count": 4,
   "id": "c3d88a18",
   "metadata": {},
   "outputs": [
    {
     "data": {
      "text/plain": [
       "['Event.Id',\n",
       " 'Investigation.Type',\n",
       " 'Accident.Number',\n",
       " 'Event.Date',\n",
       " 'Location',\n",
       " 'Country',\n",
       " 'Latitude',\n",
       " 'Longitude',\n",
       " 'Airport.Code',\n",
       " 'Airport.Name',\n",
       " 'Injury.Severity',\n",
       " 'Aircraft.damage',\n",
       " 'Aircraft.Category',\n",
       " 'Registration.Number',\n",
       " 'Make',\n",
       " 'Model',\n",
       " 'Amateur.Built',\n",
       " 'Number.of.Engines',\n",
       " 'Engine.Type',\n",
       " 'FAR.Description',\n",
       " 'Schedule',\n",
       " 'Purpose.of.flight',\n",
       " 'Air.carrier',\n",
       " 'Total.Fatal.Injuries',\n",
       " 'Total.Serious.Injuries',\n",
       " 'Total.Minor.Injuries',\n",
       " 'Total.Uninjured',\n",
       " 'Weather.Condition',\n",
       " 'Broad.phase.of.flight',\n",
       " 'Report.Status',\n",
       " 'Publication.Date']"
      ]
     },
     "execution_count": 4,
     "metadata": {},
     "output_type": "execute_result"
    }
   ],
   "source": [
    "df.columns.tolist()"
   ]
  },
  {
   "cell_type": "code",
   "execution_count": 5,
   "id": "2ba0f395",
   "metadata": {},
   "outputs": [
    {
     "data": {
      "text/plain": [
       "(90348, 31)"
      ]
     },
     "execution_count": 5,
     "metadata": {},
     "output_type": "execute_result"
    }
   ],
   "source": [
    "df.shape"
   ]
  },
  {
   "cell_type": "code",
   "execution_count": 6,
   "id": "7c408820",
   "metadata": {},
   "outputs": [
    {
     "name": "stdout",
     "output_type": "stream",
     "text": [
      "<class 'pandas.core.frame.DataFrame'>\n",
      "RangeIndex: 90348 entries, 0 to 90347\n",
      "Data columns (total 31 columns):\n",
      " #   Column                  Non-Null Count  Dtype  \n",
      "---  ------                  --------------  -----  \n",
      " 0   Event.Id                88889 non-null  object \n",
      " 1   Investigation.Type      90348 non-null  object \n",
      " 2   Accident.Number         88889 non-null  object \n",
      " 3   Event.Date              88889 non-null  object \n",
      " 4   Location                88837 non-null  object \n",
      " 5   Country                 88663 non-null  object \n",
      " 6   Latitude                34382 non-null  object \n",
      " 7   Longitude               34373 non-null  object \n",
      " 8   Airport.Code            50249 non-null  object \n",
      " 9   Airport.Name            52790 non-null  object \n",
      " 10  Injury.Severity         87889 non-null  object \n",
      " 11  Aircraft.damage         85695 non-null  object \n",
      " 12  Aircraft.Category       32287 non-null  object \n",
      " 13  Registration.Number     87572 non-null  object \n",
      " 14  Make                    88826 non-null  object \n",
      " 15  Model                   88797 non-null  object \n",
      " 16  Amateur.Built           88787 non-null  object \n",
      " 17  Number.of.Engines       82805 non-null  float64\n",
      " 18  Engine.Type             81812 non-null  object \n",
      " 19  FAR.Description         32023 non-null  object \n",
      " 20  Schedule                12582 non-null  object \n",
      " 21  Purpose.of.flight       82697 non-null  object \n",
      " 22  Air.carrier             16648 non-null  object \n",
      " 23  Total.Fatal.Injuries    77488 non-null  float64\n",
      " 24  Total.Serious.Injuries  76379 non-null  float64\n",
      " 25  Total.Minor.Injuries    76956 non-null  float64\n",
      " 26  Total.Uninjured         82977 non-null  float64\n",
      " 27  Weather.Condition       84397 non-null  object \n",
      " 28  Broad.phase.of.flight   61724 non-null  object \n",
      " 29  Report.Status           82508 non-null  object \n",
      " 30  Publication.Date        73659 non-null  object \n",
      "dtypes: float64(5), object(26)\n",
      "memory usage: 21.4+ MB\n"
     ]
    }
   ],
   "source": [
    "df.info()"
   ]
  },
  {
   "cell_type": "code",
   "execution_count": 7,
   "id": "6d20750b",
   "metadata": {},
   "outputs": [
    {
     "data": {
      "application/vnd.microsoft.datawrangler.viewer.v0+json": {
       "columns": [
        {
         "name": "index",
         "rawType": "object",
         "type": "string"
        },
        {
         "name": "Number.of.Engines",
         "rawType": "float64",
         "type": "float"
        },
        {
         "name": "Total.Fatal.Injuries",
         "rawType": "float64",
         "type": "float"
        },
        {
         "name": "Total.Serious.Injuries",
         "rawType": "float64",
         "type": "float"
        },
        {
         "name": "Total.Minor.Injuries",
         "rawType": "float64",
         "type": "float"
        },
        {
         "name": "Total.Uninjured",
         "rawType": "float64",
         "type": "float"
        }
       ],
       "ref": "3861ee4d-ec79-4f30-bcf6-e31dc66123c4",
       "rows": [
        [
         "count",
         "82805.0",
         "77488.0",
         "76379.0",
         "76956.0",
         "82977.0"
        ],
        [
         "mean",
         "1.1465853511261397",
         "0.6478551517654346",
         "0.27988059545162935",
         "0.3570611778158948",
         "5.325439579642552"
        ],
        [
         "std",
         "0.4465102138196286",
         "5.485960107559197",
         "1.5440836452335867",
         "2.235625319656934",
         "27.913634431008564"
        ],
        [
         "min",
         "0.0",
         "0.0",
         "0.0",
         "0.0",
         "0.0"
        ],
        [
         "25%",
         "1.0",
         "0.0",
         "0.0",
         "0.0",
         "0.0"
        ],
        [
         "50%",
         "1.0",
         "0.0",
         "0.0",
         "0.0",
         "1.0"
        ],
        [
         "75%",
         "1.0",
         "0.0",
         "0.0",
         "0.0",
         "2.0"
        ],
        [
         "max",
         "8.0",
         "349.0",
         "161.0",
         "380.0",
         "699.0"
        ]
       ],
       "shape": {
        "columns": 5,
        "rows": 8
       }
      },
      "text/html": [
       "<div>\n",
       "<style scoped>\n",
       "    .dataframe tbody tr th:only-of-type {\n",
       "        vertical-align: middle;\n",
       "    }\n",
       "\n",
       "    .dataframe tbody tr th {\n",
       "        vertical-align: top;\n",
       "    }\n",
       "\n",
       "    .dataframe thead th {\n",
       "        text-align: right;\n",
       "    }\n",
       "</style>\n",
       "<table border=\"1\" class=\"dataframe\">\n",
       "  <thead>\n",
       "    <tr style=\"text-align: right;\">\n",
       "      <th></th>\n",
       "      <th>Number.of.Engines</th>\n",
       "      <th>Total.Fatal.Injuries</th>\n",
       "      <th>Total.Serious.Injuries</th>\n",
       "      <th>Total.Minor.Injuries</th>\n",
       "      <th>Total.Uninjured</th>\n",
       "    </tr>\n",
       "  </thead>\n",
       "  <tbody>\n",
       "    <tr>\n",
       "      <th>count</th>\n",
       "      <td>82805.000000</td>\n",
       "      <td>77488.000000</td>\n",
       "      <td>76379.000000</td>\n",
       "      <td>76956.000000</td>\n",
       "      <td>82977.000000</td>\n",
       "    </tr>\n",
       "    <tr>\n",
       "      <th>mean</th>\n",
       "      <td>1.146585</td>\n",
       "      <td>0.647855</td>\n",
       "      <td>0.279881</td>\n",
       "      <td>0.357061</td>\n",
       "      <td>5.325440</td>\n",
       "    </tr>\n",
       "    <tr>\n",
       "      <th>std</th>\n",
       "      <td>0.446510</td>\n",
       "      <td>5.485960</td>\n",
       "      <td>1.544084</td>\n",
       "      <td>2.235625</td>\n",
       "      <td>27.913634</td>\n",
       "    </tr>\n",
       "    <tr>\n",
       "      <th>min</th>\n",
       "      <td>0.000000</td>\n",
       "      <td>0.000000</td>\n",
       "      <td>0.000000</td>\n",
       "      <td>0.000000</td>\n",
       "      <td>0.000000</td>\n",
       "    </tr>\n",
       "    <tr>\n",
       "      <th>25%</th>\n",
       "      <td>1.000000</td>\n",
       "      <td>0.000000</td>\n",
       "      <td>0.000000</td>\n",
       "      <td>0.000000</td>\n",
       "      <td>0.000000</td>\n",
       "    </tr>\n",
       "    <tr>\n",
       "      <th>50%</th>\n",
       "      <td>1.000000</td>\n",
       "      <td>0.000000</td>\n",
       "      <td>0.000000</td>\n",
       "      <td>0.000000</td>\n",
       "      <td>1.000000</td>\n",
       "    </tr>\n",
       "    <tr>\n",
       "      <th>75%</th>\n",
       "      <td>1.000000</td>\n",
       "      <td>0.000000</td>\n",
       "      <td>0.000000</td>\n",
       "      <td>0.000000</td>\n",
       "      <td>2.000000</td>\n",
       "    </tr>\n",
       "    <tr>\n",
       "      <th>max</th>\n",
       "      <td>8.000000</td>\n",
       "      <td>349.000000</td>\n",
       "      <td>161.000000</td>\n",
       "      <td>380.000000</td>\n",
       "      <td>699.000000</td>\n",
       "    </tr>\n",
       "  </tbody>\n",
       "</table>\n",
       "</div>"
      ],
      "text/plain": [
       "       Number.of.Engines  Total.Fatal.Injuries  Total.Serious.Injuries  \\\n",
       "count       82805.000000          77488.000000            76379.000000   \n",
       "mean            1.146585              0.647855                0.279881   \n",
       "std             0.446510              5.485960                1.544084   \n",
       "min             0.000000              0.000000                0.000000   \n",
       "25%             1.000000              0.000000                0.000000   \n",
       "50%             1.000000              0.000000                0.000000   \n",
       "75%             1.000000              0.000000                0.000000   \n",
       "max             8.000000            349.000000              161.000000   \n",
       "\n",
       "       Total.Minor.Injuries  Total.Uninjured  \n",
       "count          76956.000000     82977.000000  \n",
       "mean               0.357061         5.325440  \n",
       "std                2.235625        27.913634  \n",
       "min                0.000000         0.000000  \n",
       "25%                0.000000         0.000000  \n",
       "50%                0.000000         1.000000  \n",
       "75%                0.000000         2.000000  \n",
       "max              380.000000       699.000000  "
      ]
     },
     "execution_count": 7,
     "metadata": {},
     "output_type": "execute_result"
    }
   ],
   "source": [
    "df.describe()"
   ]
  },
  {
   "cell_type": "markdown",
   "id": "9a7c02e3",
   "metadata": {},
   "source": [
    "### 3. Data Cleaning and Preparation"
   ]
  },
  {
   "cell_type": "code",
   "execution_count": 8,
   "id": "e9d22b15",
   "metadata": {},
   "outputs": [],
   "source": [
    "# Create a copy for cleaning\n",
    "df_clean = df.copy()"
   ]
  },
  {
   "cell_type": "code",
   "execution_count": 9,
   "id": "0782ba4f",
   "metadata": {},
   "outputs": [],
   "source": [
    "# Convert date column\n",
    "df_clean['Event.Date'] = pd.to_datetime(df_clean['Event.Date'], errors='coerce')\n"
   ]
  },
  {
   "cell_type": "code",
   "execution_count": 10,
   "id": "884b7d8d",
   "metadata": {},
   "outputs": [
    {
     "name": "stdout",
     "output_type": "stream",
     "text": [
      "Missing values in key columns:\n",
      "Make                  1522\n",
      "Model                 1551\n",
      "Aircraft.Category    58061\n",
      "Engine.Type           8536\n",
      "Injury.Severity       2459\n",
      "dtype: int64\n"
     ]
    }
   ],
   "source": [
    "# Handle missing values in key columns\n",
    "print(\"Missing values in key columns:\")\n",
    "print(df_clean[['Make', 'Model', 'Aircraft.Category', 'Engine.Type', 'Injury.Severity']].isnull().sum())"
   ]
  },
  {
   "cell_type": "code",
   "execution_count": 11,
   "id": "38d540c6",
   "metadata": {},
   "outputs": [
    {
     "data": {
      "application/vnd.microsoft.datawrangler.viewer.v0+json": {
       "columns": [
        {
         "name": "index",
         "rawType": "int64",
         "type": "integer"
        },
        {
         "name": "Event.Id",
         "rawType": "object",
         "type": "string"
        },
        {
         "name": "Investigation.Type",
         "rawType": "object",
         "type": "string"
        },
        {
         "name": "Accident.Number",
         "rawType": "object",
         "type": "string"
        },
        {
         "name": "Event.Date",
         "rawType": "datetime64[ns]",
         "type": "datetime"
        },
        {
         "name": "Location",
         "rawType": "object",
         "type": "string"
        },
        {
         "name": "Country",
         "rawType": "object",
         "type": "string"
        },
        {
         "name": "Latitude",
         "rawType": "object",
         "type": "string"
        },
        {
         "name": "Longitude",
         "rawType": "object",
         "type": "string"
        },
        {
         "name": "Airport.Code",
         "rawType": "object",
         "type": "string"
        },
        {
         "name": "Airport.Name",
         "rawType": "object",
         "type": "string"
        },
        {
         "name": "Injury.Severity",
         "rawType": "object",
         "type": "string"
        },
        {
         "name": "Aircraft.damage",
         "rawType": "object",
         "type": "string"
        },
        {
         "name": "Aircraft.Category",
         "rawType": "object",
         "type": "string"
        },
        {
         "name": "Registration.Number",
         "rawType": "object",
         "type": "string"
        },
        {
         "name": "Make",
         "rawType": "object",
         "type": "string"
        },
        {
         "name": "Model",
         "rawType": "object",
         "type": "string"
        },
        {
         "name": "Amateur.Built",
         "rawType": "object",
         "type": "string"
        },
        {
         "name": "Number.of.Engines",
         "rawType": "float64",
         "type": "float"
        },
        {
         "name": "Engine.Type",
         "rawType": "object",
         "type": "string"
        },
        {
         "name": "FAR.Description",
         "rawType": "object",
         "type": "string"
        },
        {
         "name": "Schedule",
         "rawType": "object",
         "type": "string"
        },
        {
         "name": "Purpose.of.flight",
         "rawType": "object",
         "type": "string"
        },
        {
         "name": "Air.carrier",
         "rawType": "object",
         "type": "string"
        },
        {
         "name": "Total.Fatal.Injuries",
         "rawType": "float64",
         "type": "float"
        },
        {
         "name": "Total.Serious.Injuries",
         "rawType": "float64",
         "type": "float"
        },
        {
         "name": "Total.Minor.Injuries",
         "rawType": "float64",
         "type": "float"
        },
        {
         "name": "Total.Uninjured",
         "rawType": "float64",
         "type": "float"
        },
        {
         "name": "Weather.Condition",
         "rawType": "object",
         "type": "string"
        },
        {
         "name": "Broad.phase.of.flight",
         "rawType": "object",
         "type": "string"
        },
        {
         "name": "Report.Status",
         "rawType": "object",
         "type": "string"
        },
        {
         "name": "Publication.Date",
         "rawType": "object",
         "type": "string"
        }
       ],
       "ref": "02f918c7-126b-4e87-9a7c-4bc1014026a2",
       "rows": [
        [
         "0",
         "20001218X45444",
         "Accident",
         "SEA87LA080",
         "1948-10-24 00:00:00",
         "MOOSE CREEK, ID",
         "United States",
         null,
         null,
         null,
         null,
         "Fatal(2)",
         "Destroyed",
         null,
         "NC6404",
         "Stinson",
         "108-3",
         "No",
         "1.0",
         "Reciprocating",
         null,
         null,
         "Personal",
         null,
         "2.0",
         "0.0",
         "0.0",
         "0.0",
         "UNK",
         "Cruise",
         "Probable Cause",
         null
        ],
        [
         "1",
         "20001218X45447",
         "Accident",
         "LAX94LA336",
         "1962-07-19 00:00:00",
         "BRIDGEPORT, CA",
         "United States",
         null,
         null,
         null,
         null,
         "Fatal(4)",
         "Destroyed",
         null,
         "N5069P",
         "Piper",
         "PA24-180",
         "No",
         "1.0",
         "Reciprocating",
         null,
         null,
         "Personal",
         null,
         "4.0",
         "0.0",
         "0.0",
         "0.0",
         "UNK",
         "Unknown",
         "Probable Cause",
         "19-09-1996"
        ],
        [
         "2",
         "20061025X01555",
         "Accident",
         "NYC07LA005",
         "1974-08-30 00:00:00",
         "Saltville, VA",
         "United States",
         "36.922222999999995",
         "-81.878056",
         null,
         null,
         "Fatal(3)",
         "Destroyed",
         null,
         "N5142R",
         "Cessna",
         "172M",
         "No",
         "1.0",
         "Reciprocating",
         null,
         null,
         "Personal",
         null,
         "3.0",
         null,
         null,
         null,
         "IMC",
         "Cruise",
         "Probable Cause",
         "26-02-2007"
        ]
       ],
       "shape": {
        "columns": 31,
        "rows": 3
       }
      },
      "text/html": [
       "<div>\n",
       "<style scoped>\n",
       "    .dataframe tbody tr th:only-of-type {\n",
       "        vertical-align: middle;\n",
       "    }\n",
       "\n",
       "    .dataframe tbody tr th {\n",
       "        vertical-align: top;\n",
       "    }\n",
       "\n",
       "    .dataframe thead th {\n",
       "        text-align: right;\n",
       "    }\n",
       "</style>\n",
       "<table border=\"1\" class=\"dataframe\">\n",
       "  <thead>\n",
       "    <tr style=\"text-align: right;\">\n",
       "      <th></th>\n",
       "      <th>Event.Id</th>\n",
       "      <th>Investigation.Type</th>\n",
       "      <th>Accident.Number</th>\n",
       "      <th>Event.Date</th>\n",
       "      <th>Location</th>\n",
       "      <th>Country</th>\n",
       "      <th>Latitude</th>\n",
       "      <th>Longitude</th>\n",
       "      <th>Airport.Code</th>\n",
       "      <th>Airport.Name</th>\n",
       "      <th>...</th>\n",
       "      <th>Purpose.of.flight</th>\n",
       "      <th>Air.carrier</th>\n",
       "      <th>Total.Fatal.Injuries</th>\n",
       "      <th>Total.Serious.Injuries</th>\n",
       "      <th>Total.Minor.Injuries</th>\n",
       "      <th>Total.Uninjured</th>\n",
       "      <th>Weather.Condition</th>\n",
       "      <th>Broad.phase.of.flight</th>\n",
       "      <th>Report.Status</th>\n",
       "      <th>Publication.Date</th>\n",
       "    </tr>\n",
       "  </thead>\n",
       "  <tbody>\n",
       "    <tr>\n",
       "      <th>0</th>\n",
       "      <td>20001218X45444</td>\n",
       "      <td>Accident</td>\n",
       "      <td>SEA87LA080</td>\n",
       "      <td>1948-10-24</td>\n",
       "      <td>MOOSE CREEK, ID</td>\n",
       "      <td>United States</td>\n",
       "      <td>NaN</td>\n",
       "      <td>NaN</td>\n",
       "      <td>NaN</td>\n",
       "      <td>NaN</td>\n",
       "      <td>...</td>\n",
       "      <td>Personal</td>\n",
       "      <td>NaN</td>\n",
       "      <td>2.0</td>\n",
       "      <td>0.0</td>\n",
       "      <td>0.0</td>\n",
       "      <td>0.0</td>\n",
       "      <td>UNK</td>\n",
       "      <td>Cruise</td>\n",
       "      <td>Probable Cause</td>\n",
       "      <td>NaN</td>\n",
       "    </tr>\n",
       "    <tr>\n",
       "      <th>1</th>\n",
       "      <td>20001218X45447</td>\n",
       "      <td>Accident</td>\n",
       "      <td>LAX94LA336</td>\n",
       "      <td>1962-07-19</td>\n",
       "      <td>BRIDGEPORT, CA</td>\n",
       "      <td>United States</td>\n",
       "      <td>NaN</td>\n",
       "      <td>NaN</td>\n",
       "      <td>NaN</td>\n",
       "      <td>NaN</td>\n",
       "      <td>...</td>\n",
       "      <td>Personal</td>\n",
       "      <td>NaN</td>\n",
       "      <td>4.0</td>\n",
       "      <td>0.0</td>\n",
       "      <td>0.0</td>\n",
       "      <td>0.0</td>\n",
       "      <td>UNK</td>\n",
       "      <td>Unknown</td>\n",
       "      <td>Probable Cause</td>\n",
       "      <td>19-09-1996</td>\n",
       "    </tr>\n",
       "    <tr>\n",
       "      <th>2</th>\n",
       "      <td>20061025X01555</td>\n",
       "      <td>Accident</td>\n",
       "      <td>NYC07LA005</td>\n",
       "      <td>1974-08-30</td>\n",
       "      <td>Saltville, VA</td>\n",
       "      <td>United States</td>\n",
       "      <td>36.9222</td>\n",
       "      <td>-81.8781</td>\n",
       "      <td>NaN</td>\n",
       "      <td>NaN</td>\n",
       "      <td>...</td>\n",
       "      <td>Personal</td>\n",
       "      <td>NaN</td>\n",
       "      <td>3.0</td>\n",
       "      <td>NaN</td>\n",
       "      <td>NaN</td>\n",
       "      <td>NaN</td>\n",
       "      <td>IMC</td>\n",
       "      <td>Cruise</td>\n",
       "      <td>Probable Cause</td>\n",
       "      <td>26-02-2007</td>\n",
       "    </tr>\n",
       "  </tbody>\n",
       "</table>\n",
       "<p>3 rows × 31 columns</p>\n",
       "</div>"
      ],
      "text/plain": [
       "         Event.Id Investigation.Type Accident.Number Event.Date  \\\n",
       "0  20001218X45444           Accident      SEA87LA080 1948-10-24   \n",
       "1  20001218X45447           Accident      LAX94LA336 1962-07-19   \n",
       "2  20061025X01555           Accident      NYC07LA005 1974-08-30   \n",
       "\n",
       "          Location        Country Latitude Longitude Airport.Code  \\\n",
       "0  MOOSE CREEK, ID  United States      NaN       NaN          NaN   \n",
       "1   BRIDGEPORT, CA  United States      NaN       NaN          NaN   \n",
       "2    Saltville, VA  United States  36.9222  -81.8781          NaN   \n",
       "\n",
       "  Airport.Name  ... Purpose.of.flight Air.carrier Total.Fatal.Injuries  \\\n",
       "0          NaN  ...          Personal         NaN                  2.0   \n",
       "1          NaN  ...          Personal         NaN                  4.0   \n",
       "2          NaN  ...          Personal         NaN                  3.0   \n",
       "\n",
       "  Total.Serious.Injuries Total.Minor.Injuries Total.Uninjured  \\\n",
       "0                    0.0                  0.0             0.0   \n",
       "1                    0.0                  0.0             0.0   \n",
       "2                    NaN                  NaN             NaN   \n",
       "\n",
       "  Weather.Condition  Broad.phase.of.flight   Report.Status Publication.Date  \n",
       "0               UNK                 Cruise  Probable Cause              NaN  \n",
       "1               UNK                Unknown  Probable Cause       19-09-1996  \n",
       "2               IMC                 Cruise  Probable Cause       26-02-2007  \n",
       "\n",
       "[3 rows x 31 columns]"
      ]
     },
     "execution_count": 11,
     "metadata": {},
     "output_type": "execute_result"
    }
   ],
   "source": [
    "# Fill missing engine types with most common value\n",
    "df_clean['Engine.Type'].fillna(df_clean['Engine.Type'].mode()[0], inplace=True)\n",
    "df_clean.head(3)\n"
   ]
  },
  {
   "cell_type": "code",
   "execution_count": 12,
   "id": "158932de",
   "metadata": {},
   "outputs": [],
   "source": [
    "# Create a simplified injury severity classification\n",
    "def categorize_injury(severity):\n",
    "    if pd.isna(severity):\n",
    "        return 'Unknown'\n",
    "    elif 'Fatal' in str(severity):\n",
    "        return 'Fatal'\n",
    "    elif 'Non-Fatal' in str(severity):\n",
    "        return 'Non-Fatal'\n",
    "    else:\n",
    "        return str(severity)\n",
    "\n",
    "df_clean['Injury.Category'] = df_clean['Injury.Severity'].apply(categorize_injury)\n"
   ]
  },
  {
   "cell_type": "code",
   "execution_count": 13,
   "id": "facf9050",
   "metadata": {},
   "outputs": [
    {
     "name": "stdout",
     "output_type": "stream",
     "text": [
      "df_clean dataset shape: (90348, 33)\n"
     ]
    }
   ],
   "source": [
    "# Create total injuries column\n",
    "injury_cols = ['Total.Fatal.Injuries', 'Total.Serious.Injuries', 'Total.Minor.Injuries']\n",
    "df_clean[injury_cols] = df_clean[injury_cols].fillna(0)\n",
    "df_clean['Total.Injuries'] = df_clean[injury_cols].sum(axis=1)\n",
    "\n",
    "print(f\"df_clean dataset shape: {df_clean.shape}\")"
   ]
  },
  {
   "cell_type": "markdown",
   "id": "9a82aeda",
   "metadata": {},
   "source": [
    "## 4. Analyse the Data\n",
    "\n",
    "### 4.1. Accident Trends Over Time"
   ]
  },
  {
   "cell_type": "code",
   "execution_count": 14,
   "id": "31e93dd4",
   "metadata": {},
   "outputs": [
    {
     "data": {
      "image/png": "[encoded data removed]",
      "text/plain": [
       "<Figure size 864x432 with 1 Axes>"
      ]
     },
     "metadata": {
      "needs_background": "light"
     },
     "output_type": "display_data"
    }
   ],
   "source": [
    "# Extract year from event date\n",
    "df_clean['Year'] = df_clean['Event.Date'].dt.year\n",
    "\n",
    "# Plot accidents by year\n",
    "plt.figure(figsize=(12, 6))\n",
    "accidents_by_year = df_clean.groupby('Year').size()\n",
    "accidents_by_year.plot(kind='line', title='Aviation Accidents by Year')\n",
    "plt.xlabel('Year')\n",
    "plt.ylabel('Number of Accidents')\n",
    "plt.grid(True)\n",
    "plt.show()"
   ]
  },
  {
   "cell_type": "markdown",
   "id": "33c323b2",
   "metadata": {},
   "source": [
    "### 4.2 Injury Severity Analysis"
   ]
  },
  {
   "cell_type": "code",
   "execution_count": 15,
   "id": "5c7e45cf",
   "metadata": {},
   "outputs": [
    {
     "data": {
      "image/png": "[encoded data removed]",
      "text/plain": [
       "<Figure size 720x432 with 1 Axes>"
      ]
     },
     "metadata": {
      "needs_background": "light"
     },
     "output_type": "display_data"
    },
    {
     "name": "stdout",
     "output_type": "stream",
     "text": [
      "Injury Severity Breakdown:\n",
      "Fatal          85183\n",
      "Unknown         2459\n",
      "Incident        2219\n",
      "Minor            218\n",
      "Serious          173\n",
      "Unavailable       96\n",
      "Name: Injury.Category, dtype: int64\n"
     ]
    }
   ],
   "source": [
    "plt.figure(figsize=(10, 6))\n",
    "injury_counts = df_clean['Injury.Category'].value_counts()\n",
    "\n",
    "sns.barplot(x=injury_counts.values, y=injury_counts.index, palette='viridis')\n",
    "plt.title('Distribution of Injury Severity in Aviation Accidents')\n",
    "plt.xlabel('Number of Accidents')\n",
    "plt.ylabel('Injury Category')\n",
    "plt.show()\n",
    "\n",
    "print(\"Injury Severity Breakdown:\")\n",
    "print(injury_counts)"
   ]
  },
  {
   "cell_type": "markdown",
   "id": "48682b2f",
   "metadata": {},
   "source": [
    "### 4.3 Aircraft Category Analysis"
   ]
  },
  {
   "cell_type": "code",
   "execution_count": 16,
   "id": "871902fc",
   "metadata": {},
   "outputs": [
    {
     "data": {
      "image/png": "[encoded data removed]",
      "text/plain": [
       "<Figure size 864x432 with 1 Axes>"
      ]
     },
     "metadata": {
      "needs_background": "light"
     },
     "output_type": "display_data"
    },
    {
     "name": "stdout",
     "output_type": "stream",
     "text": [
      "To 10 Aircraft Category by Accident Breakdown:\n",
      "Airplane             27617\n",
      "Helicopter            3440\n",
      "Glider                 508\n",
      "Balloon                231\n",
      "Gyrocraft              173\n",
      "Weight-Shift           161\n",
      "Powered Parachute       91\n",
      "Ultralight              30\n",
      "Unknown                 14\n",
      "WSFT                     9\n",
      "Name: Aircraft.Category, dtype: int64\n"
     ]
    }
   ],
   "source": [
    "# Analyze by aircraft category\n",
    "plt.figure(figsize=(12, 6))\n",
    "category_counts = df_clean['Aircraft.Category'].value_counts().head(10)\n",
    "sns.barplot(x=category_counts.values, y=category_counts.index)\n",
    "plt.title('Top 10 Aircraft Categories by Accident Count')\n",
    "plt.xlabel('Number of Accidents')\n",
    "plt.tight_layout()\n",
    "plt.show()\n",
    "\n",
    "print(\"To 10 Aircraft Category by Accident Breakdown:\")\n",
    "print(category_counts)"
   ]
  },
  {
   "cell_type": "markdown",
   "id": "5b3ca98d",
   "metadata": {},
   "source": [
    "### 4.4 Analysis by Aircraft Damage, Phase of Flight and Weather Condition "
   ]
  },
  {
   "cell_type": "code",
   "execution_count": 18,
   "id": "7d13a5ee",
   "metadata": {},
   "outputs": [
    {
     "name": "stdout",
     "output_type": "stream",
     "text": [
      "Aircraft damage count Breakdown:\n",
      "Substantial    64148\n",
      "Destroyed      18623\n",
      "Minor           2805\n",
      "Unknown          119\n",
      "Name: Aircraft.damage, dtype: int64\n",
      "Top 10 Accident Phases of Flight Breakdown:\n",
      "Landing        15428\n",
      "Takeoff        12493\n",
      "Cruise         10269\n",
      "Maneuvering     8144\n",
      "Approach        6546\n",
      "Climb           2034\n",
      "Taxi            1958\n",
      "Descent         1887\n",
      "Go-around       1353\n",
      "Standing         945\n",
      "Name: Broad.phase.of.flight, dtype: int64\n",
      "Weather Conditions During Accidents Breakdown:\n",
      "VMC    77303\n",
      "IMC     5976\n",
      "UNK      856\n",
      "Unk      262\n",
      "Name: Weather.Condition, dtype: int64\n"
     ]
    },
    {
     "data": {
      "image/png": "[encoded data removed]",
      "text/plain": [
       "<Figure size 864x720 with 4 Axes>"
      ]
     },
     "metadata": {
      "needs_background": "light"
     },
     "output_type": "display_data"
    }
   ],
   "source": [
    "fig, axes = plt.subplots(2, 2, figsize=(12, 10))\n",
    "axes = axes.ravel()  \n",
    "# Aircraft Damage\n",
    "damage_counts = df_clean['Aircraft.damage'].value_counts()\n",
    "axes[0].bar(damage_counts.index, damage_counts.values, color=['skyblue', 'lightcoral'])\n",
    "axes[0].set_title('Aircraft Damage Severity')\n",
    "axes[0].set_ylabel('Number of Accidents')\n",
    "\n",
    "print(\"Aircraft damage count Breakdown:\")\n",
    "print(damage_counts)\n",
    "\n",
    "# Phase of Flight\n",
    "phase_counts = df_clean['Broad.phase.of.flight'].value_counts().head(10)\n",
    "axes[1].barh(phase_counts.index, phase_counts.values, color='lightgreen')\n",
    "axes[1].set_title('Top 10 Accident Phases of Flight')\n",
    "axes[1].set_xlabel('Number of Accidents')\n",
    "print(\"Top 10 Accident Phases of Flight Breakdown:\")\n",
    "print(phase_counts)\n",
    "\n",
    "# Weather Conditions\n",
    "weather_counts = df_clean['Weather.Condition'].value_counts().head(5)\n",
    "axes[2].bar(weather_counts.index, weather_counts.values, color='gold')\n",
    "axes[2].set_title('Weather Conditions During Accidents')\n",
    "axes[2].set_ylabel('Number of Accidents')\n",
    "plt.xticks(rotation=45)\n",
    "print(\"Weather Conditions During Accidents Breakdown:\")\n",
    "print(weather_counts)\n",
    "\n",
    "# Hide unused subplot\n",
    "axes[3].axis('off')\n",
    "\n",
    "plt.tight_layout()\n",
    "plt.show()"
   ]
  },
  {
   "cell_type": "markdown",
   "id": "c7694ab5",
   "metadata": {},
   "source": [
    "### 4.5 Engine Type Safety Analysis"
   ]
  },
  {
   "cell_type": "code",
   "execution_count": 30,
   "id": "d5e2fa58",
   "metadata": {},
   "outputs": [
    {
     "data": {
      "image/png": "[encoded data removed]",
      "text/plain": [
       "<Figure size 864x432 with 1 Axes>"
      ]
     },
     "metadata": {
      "needs_background": "light"
     },
     "output_type": "display_data"
    },
    {
     "name": "stdout",
     "output_type": "stream",
     "text": [
      "Engine Type Safety Analysis:\n",
      "                 Avg_Injuries  Accident_Count\n",
      "Engine.Type                                  \n",
      "LR                  12.000000               2\n",
      "Turbo Fan            3.947199            2481\n",
      "Unknown              3.243296            2051\n",
      "Turbo Jet            2.081081             703\n",
      "Hybrid Rocket        2.000000               1\n",
      "UNK                  2.000000               1\n",
      "Turbo Shaft          1.239956            3609\n",
      "Turbo Prop           1.222943            3391\n",
      "None                 1.105263              19\n",
      "Reciprocating        0.928368           76607\n",
      "Electric             0.300000              10\n",
      "Geared Turbofan      0.000000              12\n",
      "NONE                 0.000000               2\n"
     ]
    }
   ],
   "source": [
    "# Analyze safety by engine type\n",
    "engine_safety = df_clean.groupby('Engine.Type').agg({\n",
    "    'Total.Injuries': 'mean',\n",
    "    'Event.Id': 'count'\n",
    "}).rename(columns={'Event.Id': 'Accident_Count', 'Total.Injuries': 'Avg_Injuries'})\n",
    "\n",
    "engine_safety = engine_safety.sort_values('Avg_Injuries', ascending=False)\n",
    "\n",
    "plt.figure(figsize=(12, 6))\n",
    "sns.barplot(x=engine_safety['Avg_Injuries'], y=engine_safety.index)\n",
    "plt.title('Average Injuries per Accident by Engine Type')\n",
    "plt.xlabel('Average Number of Injuries')\n",
    "plt.tight_layout()\n",
    "plt.show()\n",
    "\n",
    "print(\"Engine Type Safety Analysis:\")\n",
    "print(engine_safety)"
   ]
  },
  {
   "cell_type": "markdown",
   "id": "e7af952d",
   "metadata": {},
   "source": [
    "### 4.6 Phase of Flight Risk Analysis\n",
    "\n"
   ]
  },
  {
   "cell_type": "code",
   "execution_count": 19,
   "id": "5d5c604f",
   "metadata": {},
   "outputs": [
    {
     "name": "stdout",
     "output_type": "stream",
     "text": [
      "\n",
      "Phase of Flight Risk Analysis:\n",
      "                       Accident_Count  Avg_Injuries  Fatal_Accidents  \\\n",
      "Broad.phase.of.flight                                                  \n",
      "Climb                            2034          1.64             1850   \n",
      "Unknown                           548          1.49              534   \n",
      "Approach                         6546          1.27             6338   \n",
      "Descent                          1887          1.26             1778   \n",
      "Cruise                          10269          1.25             9904   \n",
      "Go-around                        1353          1.18             1338   \n",
      "Maneuvering                      8144          1.13             8107   \n",
      "Other                             119          1.00              111   \n",
      "Takeoff                         12493          0.99            12133   \n",
      "Standing                          945          0.85              852   \n",
      "\n",
      "                       Fatal_Rate  \n",
      "Broad.phase.of.flight              \n",
      "Climb                       90.95  \n",
      "Unknown                     97.45  \n",
      "Approach                    96.82  \n",
      "Descent                     94.22  \n",
      "Cruise                      96.45  \n",
      "Go-around                   98.89  \n",
      "Maneuvering                 99.55  \n",
      "Other                       93.28  \n",
      "Takeoff                     97.12  \n",
      "Standing                    90.16  \n"
     ]
    }
   ],
   "source": [
    "# Calculate injury rates by flight phase\n",
    "\n",
    "phase_safety = df_clean.groupby('Broad.phase.of.flight').agg({\n",
    "    'Total.Injuries': ['count', 'mean'],\n",
    "    'Injury.Category': lambda x: (x == 'Fatal').sum()\n",
    "}).round(2)\n",
    "\n",
    "phase_safety.columns = ['Accident_Count', 'Avg_Injuries', 'Fatal_Accidents']\n",
    "phase_safety['Fatal_Rate'] = (phase_safety['Fatal_Accidents'] / phase_safety['Accident_Count'] * 100).round(2)\n",
    "phase_safety = phase_safety.sort_values('Avg_Injuries', ascending=False)\n",
    "\n",
    "print(\"\\nPhase of Flight Risk Analysis:\")\n",
    "print(phase_safety.head(10))"
   ]
  },
  {
   "cell_type": "markdown",
   "id": "8f993d00",
   "metadata": {},
   "source": [
    "## Manufacturer Safety Analysis"
   ]
  },
  {
   "cell_type": "code",
   "execution_count": 34,
   "id": "6bca06f8",
   "metadata": {},
   "outputs": [
    {
     "name": "stdout",
     "output_type": "stream",
     "text": [
      "Top 10 Manufacturers Safety Performance:\n",
      "         Fatal_Rate_Percent  Accident_Count  Avg_Fatalities_Per_Accident\n",
      "Make                                                                    \n",
      "Boeing                 0.25            1594                         4.10\n",
      "Grumman                0.27            1094                         0.19\n",
      "Cessna                 0.67           22227                         0.35\n",
      "Piper                  0.88           12029                         0.45\n",
      "Bell                   1.17            2134                         0.44\n",
      "Beech                  1.25            4330                         0.68\n",
      "Mooney                 1.56            1092                         0.50\n",
      "BOEING                 3.65            1151                         1.93\n",
      "CESSNA                19.50            4922                         0.40\n",
      "PIPER                 22.49            2841                         0.45\n"
     ]
    }
   ],
   "source": [
    "# Analyze top manufacturers\n",
    "top_manufacturers = df_clean['Make'].value_counts().head(10).index\n",
    "\n",
    "# Create manufacturer analysis dataframe\n",
    "manufacturer_stats = df_clean[df_clean['Make'].isin(top_manufacturers)].groupby('Make').agg({\n",
    "    'Injury.Severity': lambda x: (x == 'Fatal').mean() * 100,\n",
    "    'Event.Date': 'count',\n",
    "    'Total.Fatal.Injuries': 'mean'\n",
    "}).round(2)\n",
    "\n",
    "manufacturer_stats = manufacturer_stats.rename(columns={\n",
    "    'Injury.Severity': 'Fatal_Rate_Percent',\n",
    "    'Event.Date': 'Accident_Count',\n",
    "    'Total.Fatal.Injuries': 'Avg_Fatalities_Per_Accident'\n",
    "}).sort_values('Fatal_Rate_Percent')\n",
    "\n",
    "print(\"Top 10 Manufacturers Safety Performance:\")\n",
    "print(manufacturer_stats)"
   ]
  },
  {
   "cell_type": "code",
   "execution_count": 35,
   "id": "bcfec7d7",
   "metadata": {},
   "outputs": [
    {
     "data": {
      "image/png": "[encoded data removed]",
      "text/plain": [
       "<Figure size 1080x432 with 2 Axes>"
      ]
     },
     "metadata": {
      "needs_background": "light"
     },
     "output_type": "display_data"
    }
   ],
   "source": [
    "# Visualize manufacturer safety\n",
    "fig, axes = plt.subplots(1, 2, figsize=(15, 6))\n",
    "\n",
    "# Fatal rate by manufacturer\n",
    "manufacturer_stats_sorted = manufacturer_stats.sort_values('Fatal_Rate_Percent', ascending=False)\n",
    "bars = axes[0].barh(manufacturer_stats_sorted.index, manufacturer_stats_sorted['Fatal_Rate_Percent'], color='lightcoral')\n",
    "axes[0].set_title('Fatal Accident Rate by Top Manufacturers (%)')\n",
    "axes[0].set_xlabel('Fatal Accident Rate (%)')\n",
    "\n",
    "# Add value labels on bars\n",
    "for bar in bars:\n",
    "    width = bar.get_width()\n",
    "    axes[0].text(width + 1, bar.get_y() + bar.get_height()/2, f'{width}%', \n",
    "                ha='left', va='center')\n",
    "\n",
    "# Accident count vs fatal rate\n",
    "scatter = axes[1].scatter(manufacturer_stats['Accident_Count'], \n",
    "                         manufacturer_stats['Fatal_Rate_Percent'],\n",
    "                         s=manufacturer_stats['Avg_Fatalities_Per_Accident']*50, \n",
    "                         alpha=0.6)\n",
    "axes[1].set_xlabel('Number of Accidents')\n",
    "axes[1].set_ylabel('Fatal Accident Rate (%)')\n",
    "axes[1].set_title('Accident Volume vs Severity by Manufacturer')\n",
    "axes[1].grid(True, alpha=0.3)\n",
    "\n",
    "# Add manufacturer labels\n",
    "for i, maker in enumerate(manufacturer_stats.index):\n",
    "    axes[1].annotate(maker, \n",
    "                    (manufacturer_stats['Accident_Count'].iloc[i], \n",
    "                     manufacturer_stats['Fatal_Rate_Percent'].iloc[i]),\n",
    "                    xytext=(5, 5), textcoords='offset points', fontsize=9)\n",
    "\n",
    "plt.tight_layout()\n",
    "plt.show()"
   ]
  },
  {
   "cell_type": "markdown",
   "id": "d0408ccd",
   "metadata": {},
   "source": [
    "## 5. Detailed Risk Analysis"
   ]
  },
  {
   "cell_type": "markdown",
   "id": "6f45f47e",
   "metadata": {},
   "source": [
    "### 5.1 Weather Conditions Impact"
   ]
  },
  {
   "cell_type": "code",
   "execution_count": 20,
   "id": "224b3430",
   "metadata": {},
   "outputs": [
    {
     "name": "stdout",
     "output_type": "stream",
     "text": [
      "Weather Conditions Impact on Safety:\n",
      "                   Accident_Count  Avg_Injuries  Fatal_Accidents  Fatal_Rate\n",
      "Weather.Condition                                                           \n",
      "UNK                           856          3.73              730       85.28\n",
      "IMC                          5976          2.80             5737       96.00\n",
      "Unk                           262          2.07              236       90.08\n",
      "VMC                         77303          0.85            75180       97.25\n"
     ]
    }
   ],
   "source": [
    "#Analyze accidents by weather conditions\n",
    "weather_analysis = df_clean.groupby('Weather.Condition').agg({\n",
    "    'Total.Injuries': ['count', 'mean'],\n",
    "    'Injury.Category': lambda x: (x == 'Fatal').sum()\n",
    "}).round(2)\n",
    "\n",
    "weather_analysis.columns = ['Accident_Count', 'Avg_Injuries', 'Fatal_Accidents']\n",
    "weather_analysis['Fatal_Rate'] = (weather_analysis['Fatal_Accidents'] / weather_analysis['Accident_Count'] * 100).round(2)\n",
    "weather_analysis = weather_analysis.sort_values('Avg_Injuries', ascending=False)\n",
    "\n",
    "print(\"Weather Conditions Impact on Safety:\")\n",
    "print(weather_analysis)"
   ]
  },
  {
   "cell_type": "markdown",
   "id": "9a1bbd4e",
   "metadata": {},
   "source": [
    " ## 6.Business Intelligence Recommendations"
   ]
  },
  {
   "cell_type": "markdown",
   "id": "186741b9",
   "metadata": {},
   "source": [
    "###  Safest Aircraft Models"
   ]
  },
  {
   "cell_type": "code",
   "execution_count": 24,
   "id": "7ad6fd8f",
   "metadata": {},
   "outputs": [
    {
     "name": "stdout",
     "output_type": "stream",
     "text": [
      "TOP RECOMMENDED AIRCRAFT MODELS (Based on Safety Record):\n",
      "                                         Accident_Count  Avg_Injuries  \\\n",
      "Make                   Model                                            \n",
      "De Havilland           DHC2                           5           0.0   \n",
      "DEHAVILLAND            DHC 6 TWIN OTTER               4           0.0   \n",
      "DE HAVILLAND           DHC6                           3           0.0   \n",
      "CubCrafters Inc        CC11-160                       3           0.0   \n",
      "Convair                240                            3           0.0   \n",
      "Continental Copters    MK6B                           3           0.0   \n",
      "Classic Aircraft Corp. WACO YMF                       3           0.0   \n",
      "Cessna                 U206D                          3           0.0   \n",
      "                       T-206                          3           0.0   \n",
      "                       C172R                          3           0.0   \n",
      "\n",
      "                                         Fatal_Accidents  Fatal_Rate  \n",
      "Make                   Model                                          \n",
      "De Havilland           DHC2                            5      100.00  \n",
      "DEHAVILLAND            DHC 6 TWIN OTTER                4      100.00  \n",
      "DE HAVILLAND           DHC6                            1       33.33  \n",
      "CubCrafters Inc        CC11-160                        3      100.00  \n",
      "Convair                240                             3      100.00  \n",
      "Continental Copters    MK6B                            3      100.00  \n",
      "Classic Aircraft Corp. WACO YMF                        3      100.00  \n",
      "Cessna                 U206D                           3      100.00  \n",
      "                       T-206                           3      100.00  \n",
      "                       C172R                           3      100.00  \n"
     ]
    }
   ],
   "source": [
    "# Identify safest aircraft models (low injury rate with sufficient data)\n",
    "model_safety = df_clean.groupby(['Make', 'Model']).agg({\n",
    "    'Total.Injuries': ['count', 'mean'],\n",
    "    'Injury.Category': lambda x: (x == 'Fatal').sum()\n",
    "}).round(2)\n",
    "\n",
    "model_safety.columns = ['Accident_Count', 'Avg_Injuries', 'Fatal_Accidents']\n",
    "model_safety['Fatal_Rate'] = (model_safety['Fatal_Accidents'] / model_safety['Accident_Count'] * 100).round(2)\n",
    "\n",
    "\n",
    "# Filter for models with good safety record and sufficient data\n",
    "safe_models = model_safety[\n",
    "    (model_safety['Accident_Count'] >= 3) & \n",
    "    (model_safety['Avg_Injuries'] < 1.0)\n",
    "].sort_values('Avg_Injuries')\n",
    "\n",
    "print(\"TOP RECOMMENDED AIRCRAFT MODELS (Based on Safety Record):\")\n",
    "print(safe_models.head(10))"
   ]
  },
  {
   "cell_type": "markdown",
   "id": "68e0d930",
   "metadata": {},
   "source": [
    " ## 7. Risk Factors Summary"
   ]
  },
  {
   "cell_type": "code",
   "execution_count": 31,
   "id": "64e2b415",
   "metadata": {},
   "outputs": [
    {
     "name": "stdout",
     "output_type": "stream",
     "text": [
      "KEY RISK FACTORS IDENTIFIED:\n",
      "==================================================\n",
      "\n",
      "1. ENGINE TYPE RISK (Highest to Lowest Average Injuries):\n",
      "               Avg_Injuries  Accident_Count\n",
      "Engine.Type                                \n",
      "LR                12.000000               2\n",
      "Turbo Fan          3.947199            2481\n",
      "Unknown            3.243296            2051\n",
      "Turbo Jet          2.081081             703\n",
      "Hybrid Rocket      2.000000               1\n",
      "\n",
      "2. HIGH-RISK FLIGHT PHASES:\n",
      "                       Avg_Injuries  Accident_Count\n",
      "Broad.phase.of.flight                              \n",
      "Climb                          1.64            2034\n",
      "Unknown                        1.49             548\n",
      "Approach                       1.27            6546\n",
      "Descent                        1.26            1887\n",
      "Cruise                         1.25           10269\n",
      "\n",
      "3. WEATHER-RELATED RISKS:\n",
      "                   Avg_Injuries  Accident_Count\n",
      "Weather.Condition                              \n",
      "UNK                        3.73             856\n",
      "IMC                        2.80            5976\n",
      "Unk                        2.07             262\n",
      "VMC                        0.85           77303\n"
     ]
    }
   ],
   "source": [
    "# Create a comprehensive risk summary\n",
    "print(\"KEY RISK FACTORS IDENTIFIED:\")\n",
    "print(\"=\"*50)\n",
    "\n",
    "# # 1. Engine Type Risk\n",
    "print(\"\\n1. ENGINE TYPE RISK (Highest to Lowest Average Injuries):\")\n",
    "print(engine_safety[['Avg_Injuries', 'Accident_Count']].sort_values('Avg_Injuries', ascending=False).head())\n",
    "\n",
    "# 2. Flight Phase Risk\n",
    "print(\"\\n2. HIGH-RISK FLIGHT PHASES:\")\n",
    "print(phase_safety[['Avg_Injuries', 'Accident_Count']].head(5))\n",
    "\n",
    "# 3. Weather Risk\n",
    "print(\"\\n3. WEATHER-RELATED RISKS:\")\n",
    "print(weather_analysis[['Avg_Injuries', 'Accident_Count']].head(5))\n"
   ]
  },
  {
   "cell_type": "markdown",
   "id": "64be9892",
   "metadata": {},
   "source": [
    "## 8. Aircraft Characteristics and Recommendations"
   ]
  },
  {
   "cell_type": "code",
   "execution_count": 32,
   "id": "157b1393",
   "metadata": {},
   "outputs": [
    {
     "name": "stdout",
     "output_type": "stream",
     "text": [
      "OPTIMAL AIRCRAFT CHARACTERISTICS FOR BUSINESS:\n",
      "==================================================\n",
      "Engine Type: Turbo Fan\n",
      "Aircraft Category: Airplane\n",
      "Operation Type: Commercial\n",
      "Risk Mitigation: Avoid single-engine piston for primary operations\n"
     ]
    }
   ],
   "source": [
    "# Define optimal characteristics based on analysis\n",
    "optimal_characteristics = {\n",
    "    'Engine_Type': 'Turbo Fan',  # Based on lower injury rates in commercial aircraft\n",
    "    'Aircraft_Category': 'Airplane',\n",
    "    'Operation_Type': 'Commercial',  # Part 121/135 operations generally safer\n",
    "    'Risk_Mitigation': 'Avoid single-engine piston for primary operations'\n",
    "}\n",
    "\n",
    "print(\"OPTIMAL AIRCRAFT CHARACTERISTICS FOR BUSINESS:\")\n",
    "print(\"=\"*50)\n",
    "for characteristic, recommendation in optimal_characteristics.items():\n",
    "    print(f\"{characteristic.replace('_', ' ').title()}: {recommendation}\")"
   ]
  },
  {
   "cell_type": "markdown",
   "id": "e92863d5",
   "metadata": {},
   "source": [
    "## 9. Conclusion"
   ]
  },
  {
   "cell_type": "markdown",
   "id": "b7302645",
   "metadata": {},
   "source": [
    "\n",
    "This analysis provides a data-driven foundation for making informed decisions about aircraft acquisition. By focusing on aircraft with proven safety records, appropriate engine types, and implementing targeted safety protocols, our company can significantly reduce operational risks as we enter the aviation industry.\n",
    "\n",
    "The recommendations prioritize safety while considering practical business operations, ensuring a balanced approach to risk management and operational efficiency."
   ]
  }
 ],
 "metadata": {
  "kernelspec": {
   "display_name": "Python (learn-env)",
   "language": "python",
   "name": "learn-env"
  },
  "language_info": {
   "codemirror_mode": {
    "name": "ipython",
    "version": 3
   },
   "file_extension": ".py",
   "mimetype": "text/x-python",
   "name": "python",
   "nbconvert_exporter": "python",
   "pygments_lexer": "ipython3",
   "version": "3.8.5"
  }
 },
 "nbformat": 4,
 "nbformat_minor": 5
}
